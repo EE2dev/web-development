{
 "cells": [
  {
   "cell_type": "markdown",
   "metadata": {},
   "source": [
    "### Examples from Udacity course on web development\n",
    "\n",
    "Link to Website: [https://de.udacity.com/course/web-development--cs253](https://de.udacity.com/course/web-development--cs253)"
   ]
  },
  {
   "cell_type": "markdown",
   "metadata": {},
   "source": [
    "#### 1. HTTP requests with urllib2 (from lesson 5) "
   ]
  },
  {
   "cell_type": "code",
   "execution_count": null,
   "metadata": {
    "collapsed": false,
    "scrolled": true
   },
   "outputs": [],
   "source": [
    "import urllib2\n",
    "\n",
    "page = urllib2.urlopen(\"http://www.example.com\")\n",
    "# dir(page) will list possible names of methods and attributes given the scope of page\n",
    "# e.g. page.headers returns a HTTPmessage object (which is a dictionary). Look at items with page.headers.items() \n",
    "contents = page.read()\n",
    "print contents"
   ]
  },
  {
   "cell_type": "markdown",
   "metadata": {},
   "source": [
    "#### 2. RSS Rich Site Summary; Really Simple Syndication (from lesson 5)"
   ]
  },
  {
   "cell_type": "code",
   "execution_count": null,
   "metadata": {
    "collapsed": false,
    "scrolled": true
   },
   "outputs": [],
   "source": [
    "from xml.dom import minidom\n",
    "page = urllib2.urlopen(\"http://www.nytimes.com/services/xml/rss/nyt/GlobalHome.xml\")\n",
    "contents = page.read()\n",
    "\n",
    "x = minidom.parseString(contents) # parse content as xml\n",
    "nodeList = x.getElementsByTagName(\"item\") # get NodeList of elements by tag name\n",
    "\n",
    "print len(nodeList) # number of elements in nodeList\n",
    "firstNode = nodeList[0] # get first element\n",
    "\n",
    "# to print text (if any) from in between element tags\n",
    "# 1. Select a single element from nodeList\n",
    "# 2. call childNode[0].nodeValue\n",
    "# e.g.:\n",
    "print firstNode.getElementsByTagName(\"category\")[0].childNodes[0].nodeValue # print text (if any) in between element tags\n",
    "\n",
    "print x.toprettyxml() # prints out formatted xml "
   ]
  },
  {
   "cell_type": "code",
   "execution_count": null,
   "metadata": {
    "collapsed": true,
    "scrolled": true
   },
   "outputs": [],
   "source": []
  }
 ],
 "metadata": {
  "kernelspec": {
   "display_name": "Python 2",
   "language": "python",
   "name": "python2"
  },
  "language_info": {
   "codemirror_mode": {
    "name": "ipython",
    "version": 2
   },
   "file_extension": ".py",
   "mimetype": "text/x-python",
   "name": "python",
   "nbconvert_exporter": "python",
   "pygments_lexer": "ipython2",
   "version": "2.7.11"
  }
 },
 "nbformat": 4,
 "nbformat_minor": 0
}
